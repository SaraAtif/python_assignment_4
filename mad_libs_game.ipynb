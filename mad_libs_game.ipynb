{
  "nbformat": 4,
  "nbformat_minor": 0,
  "metadata": {
    "colab": {
      "provenance": [],
      "authorship_tag": "ABX9TyPe4Ly0KjAnwfoJJxCZUtwQ",
      "include_colab_link": true
    },
    "kernelspec": {
      "name": "python3",
      "display_name": "Python 3"
    },
    "language_info": {
      "name": "python"
    }
  },
  "cells": [
    {
      "cell_type": "markdown",
      "metadata": {
        "id": "view-in-github",
        "colab_type": "text"
      },
      "source": [
        "<a href=\"https://colab.research.google.com/github/SaraAtif/python_assignment_4/blob/main/mad_libs_game.ipynb\" target=\"_parent\"><img src=\"https://colab.research.google.com/assets/colab-badge.svg\" alt=\"Open In Colab\"/></a>"
      ]
    },
    {
      "cell_type": "markdown",
      "source": [
        "## ***Mad libs Game in Python***"
      ],
      "metadata": {
        "id": "3tvRTqWF0gyX"
      }
    },
    {
      "cell_type": "code",
      "source": [
        "adj1 = input(\"Enter an adjective: \")\n",
        "animal = input(\"Enter an animal: \")\n",
        "clothing_items = input(\"Enter a clothing items: \")\n",
        "song_title = input(\"Enter a song title: \")\n",
        "object1 = input(\"Enter an object: \")\n",
        "exclamation = input(\"Enter an exclamation: \")\n",
        "adjective2 = input(\"Enter an adjective: \")\n",
        "silly_adjective = input(\"Enter an silly adjective: \")\n",
        "\n",
        "\n",
        "story=f'''At the school talent show, I decided to perform a {adj1} dance routine with my pet {animal}.\n",
        "We wore matching {clothing_items} and danced to {song_title}.\n",
        "Everything was going great until someone threw a {object1} on stage!\n",
        "\n",
        "I slipped, the music stopped, and the crowd yelled, “{exclamation}!”\n",
        "But then, the principal gave us a {adjective2} trophy for “Most {silly_adjective} Performance!”\n",
        "'''\n",
        "\n",
        "\n",
        "\n",
        "print(story)"
      ],
      "metadata": {
        "colab": {
          "base_uri": "https://localhost:8080/"
        },
        "id": "JyIpFmPx00Ya",
        "outputId": "bff6bccf-e863-445e-aa83-fc3d9097fd87"
      },
      "execution_count": null,
      "outputs": [
        {
          "output_type": "stream",
          "name": "stdout",
          "text": [
            "Enter an adjective: nice\n",
            "Enter an animal: dog\n",
            "Enter a clothing items: coat pent\n",
            "Enter a song title: aha tematr\n",
            "Enter an object: ball\n",
            "Enter an exclamation: waoo\n",
            "Enter an adjective: ugly\n",
            "Enter an silly adjective: funny\n",
            "At the school talent show, I decided to perform a nice dance routine with my pet dog.\n",
            "We wore matching coat pent and danced to aha tematr.\n",
            "Everything was going great until someone threw a ball on stage!\n",
            "\n",
            "I slipped, the music stopped, and the crowd yelled, “waoo!”\n",
            "But then, the principal gave us a ugly trophy for “Most funny Performance!”\n",
            "\n"
          ]
        }
      ]
    },
    {
      "cell_type": "markdown",
      "source": [],
      "metadata": {
        "id": "eKn9FWD80I0H"
      }
    }
  ]
}